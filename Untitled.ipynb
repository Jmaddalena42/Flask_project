{
 "cells": [
  {
   "cell_type": "code",
   "execution_count": 1,
   "metadata": {},
   "outputs": [
    {
     "ename": "ModuleNotFoundError",
     "evalue": "No module named 'scrape'",
     "output_type": "error",
     "traceback": [
      "\u001b[1;31m---------------------------------------------------------------------------\u001b[0m",
      "\u001b[1;31mModuleNotFoundError\u001b[0m                       Traceback (most recent call last)",
      "\u001b[1;32m<ipython-input-1-2474deb38226>\u001b[0m in \u001b[0;36m<module>\u001b[1;34m\u001b[0m\n\u001b[0;32m      2\u001b[0m \u001b[1;32mfrom\u001b[0m \u001b[0mflask\u001b[0m \u001b[1;32mimport\u001b[0m \u001b[0mFlask\u001b[0m\u001b[1;33m,\u001b[0m \u001b[0mrender_template\u001b[0m\u001b[1;33m,\u001b[0m \u001b[0mredirect\u001b[0m\u001b[1;33m\u001b[0m\u001b[1;33m\u001b[0m\u001b[0m\n\u001b[0;32m      3\u001b[0m \u001b[1;32mfrom\u001b[0m \u001b[0mflask_pymongo\u001b[0m \u001b[1;32mimport\u001b[0m \u001b[0mPyMongo\u001b[0m\u001b[1;33m\u001b[0m\u001b[1;33m\u001b[0m\u001b[0m\n\u001b[1;32m----> 4\u001b[1;33m \u001b[1;32mimport\u001b[0m \u001b[0mscrape\u001b[0m\u001b[1;33m\u001b[0m\u001b[1;33m\u001b[0m\u001b[0m\n\u001b[0m\u001b[0;32m      5\u001b[0m \u001b[1;32mimport\u001b[0m \u001b[0mos\u001b[0m\u001b[1;33m\u001b[0m\u001b[1;33m\u001b[0m\u001b[0m\n\u001b[0;32m      6\u001b[0m \u001b[1;33m\u001b[0m\u001b[0m\n",
      "\u001b[1;31mModuleNotFoundError\u001b[0m: No module named 'scrape'"
     ]
    }
   ],
   "source": [
    "# Import Dependencies \n",
    "from flask import Flask, render_template, redirect \n",
    "from flask_pymongo import PyMongo\n",
    "import scrape\n",
    "import os\n",
    "\n",
    "\n",
    "# Hidden authetication file\n",
    "#import config \n",
    "\n",
    "# Create an instance of Flask app\n",
    "app = Flask(__name__)\n",
    "\n",
    "#Use flask_pymongo to set up connection through mLab\n",
    "app.config[\"MONGO_URI\"] = os.environ.get('authentication')\n",
    "mongo = PyMongo(app)\n",
    "\n",
    "\n",
    "\n",
    "# Use flask_pymongo to set up mongo connection locally \n",
    "# app.config[\"MONGO_URI\"] = \"mongodb://localhost:27017/mars_app\"\n",
    "# mongo = PyMongo(app)\n",
    "\n",
    "# Create route that renders index.html template and finds documents from mongo\n",
    "@app.route(\"/\")\n",
    "def home(): \n",
    "\n",
    "    # Find data\n",
    "    mars_info = mongo.db.mars_info.find_one()\n",
    "\n",
    "    # Return template and data\n",
    "    return render_template(\"index.html\", mars_info=mars_info)\n",
    "\n",
    "# Route that will trigger scrape function\n",
    "@app.route(\"/scrape\")\n",
    "def scrape(): \n",
    "\n",
    "    # Run scrapped functions\n",
    "    mars_info = mongo.db.mars_info\n",
    "    mars_data = scrape2.scrape_mars_news()\n",
    "    mars_data = scrape2.scrape_mars_images()\n",
    "    mars_data = scrape2.scrape_mars_facts()\n",
    "    mars_data = scrape2.scrape_mars_weather()\n",
    "    mars_data = scrape2.scrape_mars_hemi()\n",
    "    mars_info.update({}, mars_data, upsert=True)\n",
    "\n",
    "    return redirect(\"/\", code=302)\n",
    "\n",
    "if __name__ == \"__main__\": \n",
    "    app.run(debug= True)"
   ]
  },
  {
   "cell_type": "code",
   "execution_count": null,
   "metadata": {},
   "outputs": [],
   "source": []
  }
 ],
 "metadata": {
  "kernelspec": {
   "display_name": "Python 3",
   "language": "python",
   "name": "python3"
  },
  "language_info": {
   "codemirror_mode": {
    "name": "ipython",
    "version": 3
   },
   "file_extension": ".py",
   "mimetype": "text/x-python",
   "name": "python",
   "nbconvert_exporter": "python",
   "pygments_lexer": "ipython3",
   "version": "3.7.3"
  }
 },
 "nbformat": 4,
 "nbformat_minor": 2
}
